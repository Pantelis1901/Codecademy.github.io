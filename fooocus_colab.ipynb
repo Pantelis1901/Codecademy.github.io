{
  "cells": [
    {
      "cell_type": "code",
      "execution_count": null,
      "metadata": {
        "id": "VjYy0F2gZIPR"
      },
      "outputs": [],
      "source": [
        "!pip install pygit2==1.15.1\n",
        "%cd /content\n",
        "!git clone https://github.com/lllyasviel/Fooocus.git\n",
        "%cd /content/Fooocus\n",
        "\n"
      ]
    },
    {
      "cell_type": "code",
      "source": [
        "!wget -O /content/Fooocus/models/checkpoints/realismEngineSDXL_v30VAE.safetensors https://civitai.com/api/download/models/293240\n"
      ],
      "metadata": {
        "id": "bCZsnzVi1tRz"
      },
      "execution_count": null,
      "outputs": []
    },
    {
      "cell_type": "code",
      "source": [
        "!wget -O /content/Fooocus/models/checkpoints/lazymixRealAmateur_v40.safetensors https://civitai.com/api/download/models/30097"
      ],
      "metadata": {
        "id": "St9o9HqI1tMD"
      },
      "execution_count": null,
      "outputs": []
    },
    {
      "cell_type": "code",
      "source": [
        "!python entry_with_update.py --share --always-high-vram"
      ],
      "metadata": {
        "id": "3ZQYoPTH1tGE"
      },
      "execution_count": null,
      "outputs": []
    }
  ],
  "metadata": {
    "accelerator": "GPU",
    "colab": {
      "gpuType": "T4",
      "provenance": []
    },
    "kernelspec": {
      "display_name": "Python 3",
      "name": "python3"
    },
    "language_info": {
      "name": "python"
    }
  },
  "nbformat": 4,
  "nbformat_minor": 0
}